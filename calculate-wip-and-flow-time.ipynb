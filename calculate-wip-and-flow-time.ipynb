{
 "cells": [
  {
   "cell_type": "code",
   "execution_count": null,
   "id": "7054fb0b",
   "metadata": {},
   "outputs": [],
   "source": [
    "#scenarios\n",
    "\n",
    "# find earliest and latest dates in the month\n",
    "# find earliest date in the month, not latest date.  Set latest date to 31\n",
    "# find latest date in the month, not earliest.  This is the same as the above\n",
    "# \n",
    "# what if 2021-07-10 and 2021-08-06?  If month not equal, earliest = 01 and latest = 06 "
   ]
  },
  {
   "cell_type": "code",
   "execution_count": 1,
   "id": "141bd991",
   "metadata": {},
   "outputs": [],
   "source": [
    "date1 = \"2021-08-01\"\n",
    "date2 = \"2021-08-05\"\n",
    "\n",
    "wipByDay = {\"1\":0, \"2\":0, \"3\":0, \"4\":0, \"5\":0}"
   ]
  },
  {
   "cell_type": "code",
   "execution_count": 2,
   "id": "1fa2e6af",
   "metadata": {},
   "outputs": [
    {
     "name": "stdout",
     "output_type": "stream",
     "text": [
      "01\n",
      "05\n",
      "1\n",
      "5\n",
      "range(1, 5)\n",
      "08\n"
     ]
    }
   ],
   "source": [
    "earliest = date1[-2:]\n",
    "latest = date2[-2:]\n",
    "print(earliest)\n",
    "print(latest)\n",
    "int_earliest = int(earliest)\n",
    "print(int_earliest)\n",
    "int_latest = int(latest)\n",
    "print(int_latest)\n",
    "print(range(int_earliest, int_latest))\n",
    "\n",
    "month1 = date1[-5:-3]\n",
    "\n",
    "print(month1)"
   ]
  },
  {
   "cell_type": "code",
   "execution_count": 26,
   "id": "9a1bc245",
   "metadata": {},
   "outputs": [],
   "source": [
    "def updateWipByDay(earliest_date, latest_date):\n",
    "\n",
    "    for n in range(int(earliest_date), int(latest_date)): #don't count last date\n",
    "\n",
    "        wipByDay[str(n)] +=1 \n",
    "        #print(f.\"wip day {n} is {wipByDay[str(n)]}\")\n",
    "\n",
    "        #print(\"wip day \" + str(n) + \" is \" + str(wipByDay[str(n)]) )"
   ]
  },
  {
   "cell_type": "code",
   "execution_count": 158,
   "id": "a80a641e",
   "metadata": {},
   "outputs": [],
   "source": [
    "updateWipByDay(\"03\",\"02\")"
   ]
  },
  {
   "cell_type": "code",
   "execution_count": 153,
   "id": "f9fc08d8",
   "metadata": {},
   "outputs": [
    {
     "name": "stdout",
     "output_type": "stream",
     "text": [
      "wip day 2 is 1\n",
      "wip day 3 is 1\n"
     ]
    }
   ],
   "source": [
    "updateWipByDay(\"02\",\"03\")"
   ]
  },
  {
   "cell_type": "code",
   "execution_count": 154,
   "id": "16f78028",
   "metadata": {},
   "outputs": [
    {
     "name": "stdout",
     "output_type": "stream",
     "text": [
      "{'1': 0, '2': 1, '3': 1, '4': 0, '5': 0}\n"
     ]
    }
   ],
   "source": [
    "print(wipByDay)"
   ]
  },
  {
   "cell_type": "code",
   "execution_count": 62,
   "id": "a50a1144",
   "metadata": {},
   "outputs": [
    {
     "name": "stdout",
     "output_type": "stream",
     "text": [
      "row 2 earliest date 01 actual date 2021-03-12, latest date 2021-03-12, latest day 31\n",
      "Blank row skipped\n",
      "ticket closed in previous month, row skipped\n",
      "row 5 earliest date 01 actual date 2021-06-01, latest date 2021-06-01, latest day 31\n",
      "row 6 earliest date 01 actual date 2021-06-14, latest date 2021-06-14, latest day 31\n",
      "row 7 earliest date 01 actual date 2021-06-08, latest date 2021-08-17, latest day 17\n",
      "Blank row skipped\n",
      "row 9 earliest date 01 actual date 2021-06-11, latest date 2021-08-17, latest day 17\n",
      "row 10 earliest date 01 actual date 2021-06-29, latest date 2021-06-29, latest day 31\n",
      "row 11 earliest date 17 actual date 2021-08-17, latest date 2021-08-25, latest day 25\n",
      "row 12 earliest date 01 actual date 2021-07-22, latest date 2021-08-17, latest day 17\n",
      "row 13 earliest date 01 actual date 2021-07-21, latest date 2021-08-17, latest day 17\n",
      "row 14 earliest date 17 actual date 2021-08-17, latest date 2021-08-18, latest day 18\n",
      "row 15 earliest date 01 actual date 2021-07-21, latest date 2021-08-02, latest day 02\n",
      "row 16 earliest date 01 actual date 2021-09-01, latest date 2021-09-01, latest day 31\n",
      "row 17 earliest date 01 actual date 2021-07-30, latest date 2021-08-17, latest day 17\n",
      "row 18 earliest date 01 actual date 2021-07-29, latest date 2021-08-10, latest day 10\n",
      "row 19 earliest date 01 actual date 2021-07-30, latest date 2021-08-23, latest day 23\n",
      "row 20 earliest date 02 actual date 2021-08-02, latest date 2021-08-06, latest day 06\n",
      "row 21 earliest date 02 actual date 2021-08-02, latest date 2021-08-02, latest day 02\n",
      "row 22 earliest date 02 actual date 2021-08-02, latest date 2021-08-02, latest day 02\n",
      "row 23 earliest date 04 actual date 2021-08-04, latest date 2021-08-04, latest day 04\n",
      "row 24 earliest date 24 actual date 2021-08-24, latest date 2021-08-26, latest day 26\n",
      "row 25 earliest date 10 actual date 2021-08-10, latest date 2021-08-13, latest day 13\n",
      "row 26 earliest date 10 actual date 2021-08-10, latest date 2021-08-13, latest day 13\n",
      "row 27 earliest date 17 actual date 2021-08-17, latest date 2021-08-19, latest day 19\n",
      "row 28 earliest date 17 actual date 2021-08-17, latest date 2021-08-18, latest day 18\n",
      "row 29 earliest date 17 actual date 2021-08-17, latest date 2021-08-25, latest day 25\n",
      "row 30 earliest date 23 actual date 2021-08-23, latest date 2021-08-25, latest day 25\n",
      "row 31 earliest date 17 actual date 2021-08-17, latest date 2021-08-17, latest day 17\n",
      "row 32 earliest date 17 actual date 2021-08-17, latest date 2021-08-19, latest day 19\n",
      "row 33 earliest date 19 actual date 2021-08-19, latest date 2021-08-27, latest day 27\n",
      "row 34 earliest date 20 actual date 2021-08-20, latest date 2021-08-26, latest day 26\n",
      "row 35 earliest date 23 actual date 2021-08-23, latest date 2021-08-26, latest day 26\n",
      "row 36 earliest date 24 actual date 2021-08-24, latest date 2021-08-25, latest day 25\n",
      "row 37 earliest date 01 actual date 2021-09-08, latest date 2021-09-08, latest day 31\n",
      "max wip = 19 on day 17\n"
     ]
    }
   ],
   "source": [
    "import csv\n",
    "\n",
    "def updateWipByDay(earliest_date, latest_date):\n",
    "\n",
    "    for n in range(int(earliest_date), int(latest_date)+1): #don't count last date\n",
    "\n",
    "        wipByDay[str(n)] +=1 \n",
    "        #print(f.\"wip day {n} is {wipByDay[str(n)]}\")\n",
    "\n",
    "        #print(\"wip day \" + str(n) + \" is \" + str(wipByDay[str(n)]) )\n",
    "\n",
    "# intialise wipByDate\n",
    "\n",
    "currentMonth = \"08\"\n",
    "\n",
    "wipByDay = {}\n",
    "\n",
    "fileName = \"/Users/richard.holloway/Development/hmrc/jira-to-analytics/dlk-output.csv\"\n",
    "\n",
    "inProgressColumn = 5\n",
    "deployingColumn = 6\n",
    "deployedColumn = 7\n",
    "doneColumn = 8\n",
    "\n",
    "for n in range(1,32):\n",
    "    \n",
    "    wipByDay[str(n)] = 0\n",
    "    \n",
    "#print(wipByDay)\n",
    "\n",
    "with open(fileName, newline='') as csvfile:\n",
    "    \n",
    "    numberOfRows = 0 \n",
    "    \n",
    "    for line in csvfile.readlines():\n",
    "        array = line.split(',')\n",
    "        numberOfRows +=1 \n",
    "        \n",
    "        # some things to slip\n",
    "        \n",
    "        if array[0] == \"ID\": # skip header row\n",
    "            continue\n",
    "            \n",
    "        if array[inProgressColumn] == \"\" and array[deployingColumn] == \"\" and array[deployedColumn] == \"\" and array[doneColumn] ==\"\": \n",
    "            print(\"Blank row skipped\")\n",
    "            continue\n",
    "            \n",
    "        # skip if done ticket in previous month, this can happen if someone has updated commented on a done ticket\n",
    "        \n",
    "        if array[doneColumn] != \"\" and array[doneColumn][-5:-3] != currentMonth:\n",
    "            print(\"ticket closed in previous month, row skipped\")\n",
    "            continue\n",
    "   \n",
    "        if array[inProgressColumn] != \"\" : \n",
    "\n",
    "            earliestDate = array[inProgressColumn]\n",
    "        \n",
    "        elif array[deployingColumn] != \"\" :\n",
    "            \n",
    "            earliestDate = array[deployingColumn]\n",
    "            \n",
    "        elif array[deployedColumn] != \"\" :\n",
    "            \n",
    "            earliestDate = array[deployedColumn]\n",
    "            \n",
    "        if earliestDate[-5:-3] != currentMonth: \n",
    "            \n",
    "            earliestDay = \"01\"\n",
    "            \n",
    "        else:\n",
    "            \n",
    "            earliestDay = earliestDate[-2:]\n",
    "            \n",
    "        #################\n",
    "            \n",
    "        if array[doneColumn] != \"\":\n",
    "            \n",
    "            latestDate = array[doneColumn]\n",
    "            \n",
    "        elif array[deployedColumn] != \"\":\n",
    "            \n",
    "            latestDate = array[deployedColumn]\n",
    "        \n",
    "        elif array[deployingColumn] != \"\":\n",
    "            \n",
    "            latestDate = array[deployingColumn]\n",
    "            \n",
    "        elif array[inProgressColumn] != \"\":\n",
    "            \n",
    "            latestDate = array[inProgressColumn]\n",
    "            \n",
    "        if latestDate[-5:-3] != currentMonth:\n",
    "            \n",
    "            latestDay = \"31\"\n",
    "        \n",
    "        else:\n",
    "            \n",
    "            latestDay = latestDate[-2:]\n",
    "\n",
    "        print(f\"row {numberOfRows} earliest date {earliestDay} actual date {earliestDate}, latest date {latestDate}, latest day {latestDay}\")            \n",
    "                        \n",
    "        updateWipByDay(earliestDay,latestDay)\n",
    "            \n",
    "#print(wipByDay)\n",
    "\n",
    "#print(max(wipByDay.values()))\n",
    "\n",
    "maxWip = 0\n",
    "maxWipDay = \"\"\n",
    "\n",
    "for n in wipByDay:\n",
    "    \n",
    "    if wipByDay[n] > maxWip:\n",
    "        \n",
    "        maxWip = wipByDay[n]\n",
    "        \n",
    "        maxWipDay = n\n",
    "\n",
    "print(f\"max wip = {maxWip} on day {maxWipDay}\")\n",
    "\n",
    "# print(wipByDay[max(wipByDay, key=wipByDay.get)])\n",
    "\n",
    "# stats[max(stats, key=stats.get)]\n",
    "\n",
    "\n",
    "\n",
    "\n",
    "\n"
   ]
  },
  {
   "cell_type": "code",
   "execution_count": null,
   "id": "274125e1",
   "metadata": {},
   "outputs": [],
   "source": []
  }
 ],
 "metadata": {
  "kernelspec": {
   "display_name": "Python 3",
   "language": "python",
   "name": "python3"
  },
  "language_info": {
   "codemirror_mode": {
    "name": "ipython",
    "version": 3
   },
   "file_extension": ".py",
   "mimetype": "text/x-python",
   "name": "python",
   "nbconvert_exporter": "python",
   "pygments_lexer": "ipython3",
   "version": "3.8.8"
  }
 },
 "nbformat": 4,
 "nbformat_minor": 5
}
